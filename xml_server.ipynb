{
 "cells": [
  {
   "cell_type": "code",
   "execution_count": 1,
   "metadata": {},
   "outputs": [
    {
     "name": "stdout",
     "output_type": "stream",
     "text": [
      "{'account': '346356', 'password': '000'}\n"
     ]
    },
    {
     "name": "stderr",
     "output_type": "stream",
     "text": [
      "192.168.0.77 - - [10/Jul/2023 14:15:51] \"POST / HTTP/1.1\" 200 -\n"
     ]
    },
    {
     "name": "stdout",
     "output_type": "stream",
     "text": [
      "{'account': '346356', 'password': '000dfdd'}\n"
     ]
    },
    {
     "name": "stderr",
     "output_type": "stream",
     "text": [
      "192.168.0.77 - - [10/Jul/2023 14:15:57] \"POST / HTTP/1.1\" 200 -\n"
     ]
    }
   ],
   "source": [
    "#################  第四版(tool_list) ##################\n",
    "from xmlrpc.server import SimpleXMLRPCServer\n",
    "import base64\n",
    "dasiyIp = ['192.168.0.103',8080]\n",
    "wangIp = ['192.168.0.128',8888]\n",
    "s = SimpleXMLRPCServer((\"192.168.0.77\",8887))\n",
    "class tmd:\n",
    "    # 傳送工單\n",
    "    def workOrder(self,a):\n",
    "        print(a)\n",
    "        return ['20230313','20230314','20230315','20230316','20230317']\n",
    "    # 傳送表單(未使用)\n",
    "    def form(self,a):\n",
    "        print(a)\n",
    "        return ['CP-00-07']\n",
    "    # 傳送表單結構 & 內容\n",
    "    def structure(self,a):\n",
    "        import  pandas as pd \n",
    "        import json\n",
    "        import random\n",
    "        print(a)\n",
    "        info_map= {}\n",
    "        ## 讀取Excel建立表單架構(frame)\n",
    "        data = pd.read_excel(a['order']+'.xlsx',sheet_name=a['sheet'],index_col=False,dtype={'value':str,'groupwidth':str})\n",
    "        ## 將value的部分,填充為空字串,方便等等要進行分割\n",
    "        values = {'value':\"\"}\n",
    "        data = data.fillna(value=values)\n",
    "        dataG = data.groupby([\"item\",'row'])\n",
    "        struList=[]\n",
    "        result={}\n",
    "        for (item,row),j in dataG:\n",
    "            styleInfo = j.loc[:,\"item\":]\n",
    "            styleList = list()\n",
    "            styleList = [row.dropna(axis=0) for _,row in styleInfo.iterrows()]\n",
    "            styleDicList = [h.to_dict() for h in (styleList)]\n",
    "            for k in styleDicList:\n",
    "                # 指定type 需要切割value,包成list\n",
    "                if (k['type'] == 'C') or (k['type'] == 'E') or (k['type'] == 'H')or (k['type'] == 'J'):\n",
    "                    if ',' in k['value']:\n",
    "                        k['value']=k['value'].split(\",\")\n",
    "                # typeC 當有groupwidth時,需切成list\n",
    "                if 'groupwidth' in k:\n",
    "                    if ',' in k['groupwidth']:\n",
    "                        k['groupwidth']=k['groupwidth'].split(\",\")\n",
    "            if item in result:\n",
    "                result[item].append(styleDicList)\n",
    "            else:\n",
    "                result[item] = [styleDicList]\n",
    "        struList= list(result.values())\n",
    "        # 隨機決定是否該次表單是否有內容(data), 1 update 0 new\n",
    "        info_list = []\n",
    "        random_int = 0\n",
    "        # random_int = random.randint(0, 1)\n",
    "        if random_int == 1:\n",
    "            state = 'update'\n",
    "            ## 讀取json獲取表單內容(data)       \n",
    "            fn = 'jsondata.json'\n",
    "            with open (fn) as fnobject:\n",
    "                info_list = json.load(fnobject)[a['sheet']]['data']\n",
    "            info_map = {'state':state,'frame':struList,'data':info_list}\n",
    "        else:\n",
    "            state = 'new'\n",
    "            info_map = {'state':state,'frame':struList}\n",
    "        return info_map\n",
    "    # 接收表單內容      \n",
    "    def formArchive(self,a):\n",
    "        import json\n",
    "        info_list={}\n",
    "        fn = 'jsondata.json'\n",
    "        with open (fn) as fnobject:\n",
    "            info_list= json.load(fnobject)\n",
    "        info_list[a['sheet']]=a\n",
    "        with open (fn,'w') as fnobject:\n",
    "            json.dump(info_list,fnobject,indent=2)\n",
    "        print(a['sheet'])\n",
    "        print(a)\n",
    "        print('success')\n",
    "        return 'Success'\n",
    "    # 歷史紀錄\n",
    "    def history(self,a):\n",
    "        print(a)\n",
    "        print('success')\n",
    "        return 'Success'\n",
    "    def testapi(self,a):\n",
    "        print(a)\n",
    "        with open('./123.xlsx', 'rb') as f:\n",
    "            excel_content = f.read()\n",
    "        return base64.b64encode(excel_content).decode('utf-8')\n",
    "    def login(self,a):\n",
    "        try:\n",
    "            print(a)\n",
    "            if(a['password']=='000'):\n",
    "                return 'Success'\n",
    "            return 'Failure'\n",
    "        except:\n",
    "            return 'Failure'\n",
    "andd = tmd()\n",
    "s.register_function(andd.login)\n",
    "s.register_function(andd.testapi)\n",
    "s.register_function(andd.workOrder)\n",
    "s.register_function(andd.form)\n",
    "s.register_function(andd.structure)\n",
    "s.register_function(andd.formArchive)\n",
    "s.register_function(andd.history)\n",
    "s.serve_forever()"
   ]
  }
 ],
 "metadata": {
  "kernelspec": {
   "display_name": "Python 3",
   "language": "python",
   "name": "python3"
  },
  "language_info": {
   "codemirror_mode": {
    "name": "ipython",
    "version": 3
   },
   "file_extension": ".py",
   "mimetype": "text/x-python",
   "name": "python",
   "nbconvert_exporter": "python",
   "pygments_lexer": "ipython3",
   "version": "3.11.3"
  },
  "orig_nbformat": 4,
  "vscode": {
   "interpreter": {
    "hash": "d8ef6000f1b6a73fe766a93cab996de5aec492f85b61afb5b01bb58152873af0"
   }
  }
 },
 "nbformat": 4,
 "nbformat_minor": 2
}
